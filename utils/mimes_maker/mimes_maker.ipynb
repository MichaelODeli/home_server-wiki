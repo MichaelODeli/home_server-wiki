{
 "cells": [
  {
   "cell_type": "code",
   "execution_count": null,
   "metadata": {},
   "outputs": [],
   "source": [
    "from mimes import mimes_dict"
   ]
  },
  {
   "cell_type": "code",
   "execution_count": null,
   "metadata": {},
   "outputs": [],
   "source": [
    "primary_mimes = {\n",
    "    \"unknown\": 0,\n",
    "    \"application\": 1,\n",
    "    \"audio\": 2,\n",
    "    \"example\": 3,\n",
    "    \"image\": 4,\n",
    "    \"message\": 5,\n",
    "    \"model\": 6,\n",
    "    \"multipart\": 7,\n",
    "    \"text\": 8,\n",
    "    \"video\": 9,\n",
    "    \"vnd\": 10,\n",
    "    \"x\": 11,\n",
    "    \"x-pkcs\": 12,\n",
    "    \"chemical\": 13,\n",
    "    \"font\": 14,\n",
    "    \"x-conference\": 15,\n",
    "    \"x-shader\": 16,\n",
    "}"
   ]
  },
  {
   "cell_type": "code",
   "execution_count": null,
   "metadata": {},
   "outputs": [],
   "source": [
    "for mime_key in mimes_dict:\n",
    "    mime_primary = mime_key.split('/')[0]\n",
    "    extension = \"'\"+','.join(mimes_dict[mime_key]['extensions'])+\"'\" if 'extensions' in mimes_dict[mime_key] else 'NULL'\n",
    "    compressible = \"'\"+str(mimes_dict[mime_key]['compressible'])+\"'\" if 'compressible' in mimes_dict[mime_key] else 'NULL'\n",
    "    print(f\"INSERT INTO mime_types_secondary (primary_mime_id, type_name, extension, compressible) VALUES ({primary_mimes[mime_primary]}, '{mime_key}', {extension}, {compressible});\")"
   ]
  }
 ],
 "metadata": {
  "language_info": {
   "name": "python"
  }
 },
 "nbformat": 4,
 "nbformat_minor": 2
}
